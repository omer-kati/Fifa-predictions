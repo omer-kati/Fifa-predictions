{
 "cells": [
  {
   "cell_type": "code",
   "execution_count": 25,
   "metadata": {
    "collapsed": true,
    "pycharm": {
     "name": "#%%\n"
    }
   },
   "outputs": [],
   "source": [
    "from matplotlib import pyplot as plt\n",
    "import pandas as pd\n",
    "import numpy as np"
   ]
  },
  {
   "cell_type": "code",
   "execution_count": 26,
   "outputs": [],
   "source": [
    "df = pd.read_csv(\"allPlayers.csv\")"
   ],
   "metadata": {
    "collapsed": false,
    "pycharm": {
     "name": "#%%\n"
    }
   }
  },
  {
   "cell_type": "code",
   "execution_count": 27,
   "outputs": [],
   "source": [
    "players_dict = {}\n",
    "baseListDf = []\n",
    "for i, row in df.iterrows():\n",
    "\n",
    "    current = row[\"sofifa_id\"]\n",
    "    if current in players_dict:\n",
    "        new_value = players_dict[current]\n",
    "        new_value.append([len(new_value),row[\"value_eur\"]])\n",
    "        players_dict[current] = new_value\n",
    "        baseListDf.append(False)\n",
    "\n",
    "        # players_dict[current] = players_dict[current]\n",
    "    else:\n",
    "        players_dict[current] = [[0,row[\"value_eur\"]]]\n",
    "        baseListDf.append(True)\n",
    "\n",
    "# print(players_dict)\n",
    "df = df[baseListDf]\n",
    "# df.to_csv(\"source_o.csv\", index=False)"
   ],
   "metadata": {
    "collapsed": false,
    "pycharm": {
     "name": "#%%\n"
    }
   }
  },
  {
   "cell_type": "code",
   "execution_count": 28,
   "outputs": [],
   "source": [
    "from sklearn.linear_model import LinearRegression\n",
    "players_slopes_array = []\n",
    "for arr in players_dict.values():\n",
    "    x=np.array([v[0] for v in arr]).reshape((-1, 1))\n",
    "    y=[v[1] for v in arr]\n",
    "    reg = LinearRegression().fit(x,y)\n",
    "    players_slopes_array.append(reg.coef_[0])\n",
    "\n",
    "targetDf= pd.DataFrame(players_slopes_array)\n",
    "targetDf= targetDf.rename(columns={\"0\": \"Target\"})\n",
    "targetDf.to_csv(\"target_market_value.csv\", index=False)\n",
    "\n"
   ],
   "metadata": {
    "collapsed": false,
    "pycharm": {
     "name": "#%%\n"
    }
   }
  },
  {
   "cell_type": "code",
   "execution_count": 10,
   "outputs": [
    {
     "name": "stderr",
     "output_type": "stream",
     "text": [
      "C:\\Users\\omerk\\OneDrive - Y-Con B.V\\Google\\Thesis\\data\\archive\\venv\\lib\\site-packages\\seaborn\\_decorators.py:43: FutureWarning: Pass the following variables as keyword args: x, y. From version 0.12, the only valid positional argument will be `data`, and passing other arguments without an explicit keyword will result in an error or misinterpretation.\n",
      "  FutureWarning\n"
     ]
    },
    {
     "data": {
      "text/plain": "<Figure size 432x288 with 1 Axes>",
      "image/png": "[encoded data removed]"
     },
     "metadata": {
      "needs_background": "light"
     },
     "output_type": "display_data"
    }
   ],
   "source": [
    "df = df.sort_values([\"short_name\", \"age\"])\n",
    "counter = 0\n",
    "full_arr = []\n",
    "temp = []\n",
    "for i, r in df.iterrows():\n",
    "    temp.append(r[\"overall\"])\n",
    "    counter += 1\n",
    "    if counter > 0 and counter % 7 == 0:\n",
    "        full_arr.append(temp)\n",
    "        temp = []\n",
    "\n",
    "avg_2015 = 0\n",
    "avg_2016 = 0\n",
    "avg_2017 = 0\n",
    "avg_2018 = 0\n",
    "avg_2019 = 0\n",
    "avg_2020 = 0\n",
    "avg_2021 = 0\n",
    "for r in full_arr:\n",
    "    avg_2015 += r[0]\n",
    "    avg_2016 += r[1]\n",
    "    avg_2017 += r[2]\n",
    "    avg_2018 += r[3]\n",
    "    avg_2019 += r[4]\n",
    "    avg_2020 += r[5]\n",
    "    avg_2021 += r[6]\n",
    "avg_2015 = avg_2015 / len(full_arr)\n",
    "avg_2016 = avg_2016 / len(full_arr)\n",
    "avg_2017 = avg_2017 / len(full_arr)\n",
    "avg_2018 = avg_2018 / len(full_arr)\n",
    "avg_2019 = avg_2019 / len(full_arr)\n",
    "avg_2020 = avg_2020 / len(full_arr)\n",
    "avg_2021 = avg_2021 / len(full_arr)\n",
    "\n",
    "x = [2015, 2016, 2017, 2018, 2019, 2020, 2021]\n",
    "y = [\n",
    "    avg_2015,\n",
    "    avg_2016,\n",
    "    avg_2017,\n",
    "    avg_2018,\n",
    "    avg_2019,\n",
    "    avg_2020,\n",
    "    avg_2021,\n",
    "]\n",
    "sns.regplot(x, y, color='orange')\n",
    "plt.title('Year vs Rating', fontsize=20)\n",
    "plt.xlabel('Year')\n",
    "plt.ylabel('Rating')\n",
    "plt.show()"
   ],
   "metadata": {
    "collapsed": false,
    "pycharm": {
     "name": "#%%\n"
    }
   }
  },
  {
   "cell_type": "code",
   "execution_count": 10,
   "outputs": [],
   "source": [],
   "metadata": {
    "collapsed": false,
    "pycharm": {
     "name": "#%%\n"
    }
   }
  },
  {
   "cell_type": "code",
   "execution_count": 10,
   "outputs": [],
   "source": [],
   "metadata": {
    "collapsed": false,
    "pycharm": {
     "name": "#%%\n"
    }
   }
  }
 ],
 "metadata": {
  "kernelspec": {
   "display_name": "Python 3",
   "language": "python",
   "name": "python3"
  },
  "language_info": {
   "codemirror_mode": {
    "name": "ipython",
    "version": 2
   },
   "file_extension": ".py",
   "mimetype": "text/x-python",
   "name": "python",
   "nbconvert_exporter": "python",
   "pygments_lexer": "ipython2",
   "version": "2.7.6"
  }
 },
 "nbformat": 4,
 "nbformat_minor": 0
}