{
 "cells": [
  {
   "cell_type": "code",
   "execution_count": 2,
   "metadata": {
    "collapsed": true,
    "pycharm": {
     "name": "#%%\n"
    }
   },
   "outputs": [],
   "source": [
    "from math import sqrt\n",
    "from sklearn.neighbors import KNeighborsRegressor\n",
    "from sklearn.ensemble import RandomForestRegressor\n",
    "from sklearn.model_selection import train_test_split, GridSearchCV\n",
    "from sklearn.preprocessing import MinMaxScaler\n",
    "import pandas as pd\n",
    "from sklearn.metrics import mean_squared_error, r2_score, mean_absolute_error, mean_absolute_percentage_error\n",
    "import matplotlib.pyplot as plt\n",
    "import numpy as np\n",
    "\n",
    "scaler = MinMaxScaler()\n",
    "x_data = pd.read_csv(\"newSourceOverall.csv\").drop(columns=[\"short_name\", \"player_positions\"])\n",
    "# x_data = scaler.fit_transform(x_data)\n",
    "y_data = pd.read_csv(\"newTargetOverall.csv\")\n",
    "y_data = y_data.to_numpy() / 1000000\n",
    "\n",
    "x_train, x_test, y_train, y_test = train_test_split(x_data, y_data, test_size=0.1, random_state=42)\n",
    "\n",
    "x_train, x_val, y_train, y_val = train_test_split(x_train, y_train, test_size=0.2, random_state=42)"
   ]
  },
  {
   "cell_type": "code",
   "execution_count": 5,
   "outputs": [
    {
     "name": "stdout",
     "output_type": "stream",
     "text": [
      "{'metric': 'manhattan', 'n_neighbors': 47}\n"
     ]
    },
    {
     "data": {
      "text/plain": "<AxesSubplot:>"
     },
     "execution_count": 5,
     "metadata": {},
     "output_type": "execute_result"
    },
    {
     "data": {
      "text/plain": "<Figure size 432x288 with 1 Axes>",
      "image/png": "[encoded data removed]"
     },
     "metadata": {
      "needs_background": "light"
     },
     "output_type": "display_data"
    }
   ],
   "source": [
    "params = {'n_neighbors': [*range(1, 50, 2)], \"metric\": [\"manhattan\", \"minkowski\"]}\n",
    "\n",
    "knn = KNeighborsRegressor()\n",
    "model = GridSearchCV(knn, params, cv=5)\n",
    "model.fit(x_train, y_train)\n",
    "print(model.best_params_)\n",
    "\n",
    "rmse_val = []  #to store rmse values for different k\n",
    "for K in range(1, 100, 2):\n",
    "    model = KNeighborsRegressor(n_neighbors=K)\n",
    "\n",
    "    model.fit(x_train, y_train)  #fit the model\n",
    "    predictions = model.predict(x_test)  #make prediction on test set\n",
    "    error = r2_score(y_test, predictions)\n",
    "    rmse_val.append(error)  #store rmse values\n",
    "\n",
    "#plotting the rmse values against k values\n",
    "curve = pd.DataFrame(rmse_val)  #elbow curve\n",
    "curve.plot()"
   ],
   "metadata": {
    "collapsed": false,
    "pycharm": {
     "name": "#%%\n"
    }
   }
  },
  {
   "cell_type": "code",
   "execution_count": 6,
   "outputs": [
    {
     "name": "stdout",
     "output_type": "stream",
     "text": [
      "mse 3.5379376037422644e-12\n",
      "mae 1.4552304964539001e-06\n",
      "RMSE 1.8809406167506364e-06\n",
      "MAPE 687417789.8462331\n",
      "R2 0.10452991256699484\n"
     ]
    }
   ],
   "source": [
    "model = KNeighborsRegressor(n_neighbors=47, metric=\"manhattan\")\n",
    "model.fit(x_train, y_train)  #fit the model\n",
    "predictions = model.predict(x_test)  #make prediction on test set\n",
    "error = mean_squared_error(y_test, predictions)\n",
    "print(\"mse\", mean_squared_error(y_test, predictions))\n",
    "print(\"mae\", mean_absolute_error(y_test, predictions))\n",
    "print(\"RMSE\", mean_squared_error(y_test, predictions, squared=False))\n",
    "print(\"MAPE\", mean_absolute_percentage_error(y_test, predictions))\n",
    "print(\"R2\", r2_score(y_test, predictions))"
   ],
   "metadata": {
    "collapsed": false,
    "pycharm": {
     "name": "#%%\n"
    }
   }
  },
  {
   "cell_type": "code",
   "execution_count": 7,
   "outputs": [
    {
     "name": "stdout",
     "output_type": "stream",
     "text": [
      "{'max_depth': 40, 'n_estimators': 200}\n"
     ]
    }
   ],
   "source": [
    "params = {'max_depth': [*range(5, 50, 5)], \"n_estimators\": [50, 100,200,250,300]}\n",
    "\n",
    "forest = RandomForestRegressor()\n",
    "model = GridSearchCV(forest, params, cv=5)\n",
    "model.fit(x_train, y_train.ravel())\n",
    "print(model.best_params_)"
   ],
   "metadata": {
    "collapsed": false,
    "pycharm": {
     "name": "#%%\n"
    }
   }
  },
  {
   "cell_type": "code",
   "execution_count": 4,
   "outputs": [
    {
     "name": "stderr",
     "output_type": "stream",
     "text": [
      "C:\\Users\\omerk\\OneDrive - Y-Con B.V\\Google\\Thesis\\data\\archive\\venv\\lib\\site-packages\\ipykernel_launcher.py:4: DataConversionWarning: A column-vector y was passed when a 1d array was expected. Please change the shape of y to (n_samples,), for example using ravel().\n",
      "  after removing the cwd from sys.path.\n"
     ]
    },
    {
     "name": "stdout",
     "output_type": "stream",
     "text": [
      "mse 3.011150260416665e-12\n",
      "mae 1.3213854166666664e-06\n",
      "RMSE 1.73526662516648e-06\n",
      "MAPE 608314338.0491745\n",
      "R2 0.23786248120455633\n",
      "Variable: potential            Importance: 0.14\n",
      "Variable: age                  Importance: 0.06\n",
      "Variable: id                   Importance: 0.04\n",
      "Variable: club_name            Importance: 0.03\n",
      "Variable: league_name          Importance: 0.03\n",
      "Variable: value_eur            Importance: 0.03\n",
      "Variable: power_stamina        Importance: 0.03\n",
      "Variable: height_cm            Importance: 0.02\n",
      "Variable: weight_kg            Importance: 0.02\n",
      "Variable: nationality          Importance: 0.02\n",
      "Variable: overall              Importance: 0.02\n",
      "Variable: wage_eur             Importance: 0.02\n",
      "Variable: international_reputation Importance: 0.02\n",
      "Variable: team_position        Importance: 0.02\n",
      "Variable: attacking_crossing   Importance: 0.02\n",
      "Variable: attacking_heading_accuracy Importance: 0.02\n",
      "Variable: attacking_volleys    Importance: 0.02\n",
      "Variable: skill_curve          Importance: 0.02\n",
      "Variable: skill_fk_accuracy    Importance: 0.02\n",
      "Variable: movement_acceleration Importance: 0.02\n",
      "Variable: movement_sprint_speed Importance: 0.02\n",
      "Variable: movement_agility     Importance: 0.02\n",
      "Variable: movement_reactions   Importance: 0.02\n",
      "Variable: movement_balance     Importance: 0.02\n",
      "Variable: power_shot_power     Importance: 0.02\n",
      "Variable: power_jumping        Importance: 0.02\n",
      "Variable: power_strength       Importance: 0.02\n",
      "Variable: mentality_aggression Importance: 0.02\n",
      "Variable: mentality_interceptions Importance: 0.02\n",
      "Variable: mentality_positioning Importance: 0.02\n",
      "Variable: mentality_vision     Importance: 0.02\n",
      "Variable: mentality_penalties  Importance: 0.02\n",
      "Variable: weak_foot            Importance: 0.01\n",
      "Variable: work_rate            Importance: 0.01\n",
      "Variable: attacking_finishing  Importance: 0.01\n",
      "Variable: attacking_short_passing Importance: 0.01\n",
      "Variable: skill_dribbling      Importance: 0.01\n",
      "Variable: skill_long_passing   Importance: 0.01\n",
      "Variable: skill_ball_control   Importance: 0.01\n",
      "Variable: power_long_shots     Importance: 0.01\n",
      "Variable: defending_standing_tackle Importance: 0.01\n",
      "Variable: defending_sliding_tackle Importance: 0.01\n",
      "Variable: league_rank          Importance: 0.0\n",
      "Variable: preferred_foot       Importance: 0.0\n",
      "Variable: skill_moves          Importance: 0.0\n",
      "Variable: LW                   Importance: 0.0\n",
      "Variable: ST                   Importance: 0.0\n",
      "Variable: RW                   Importance: 0.0\n",
      "Variable: CF                   Importance: 0.0\n",
      "Variable: LM                   Importance: 0.0\n",
      "Variable: CM                   Importance: 0.0\n",
      "Variable: RM                   Importance: 0.0\n",
      "Variable: CAM                  Importance: 0.0\n",
      "Variable: CDM                  Importance: 0.0\n",
      "Variable: LB                   Importance: 0.0\n",
      "Variable: CB                   Importance: 0.0\n",
      "Variable: RB                   Importance: 0.0\n",
      "Variable: LWB                  Importance: 0.0\n",
      "Variable: RWB                  Importance: 0.0\n",
      "Variable: GK                   Importance: 0.0\n"
     ]
    }
   ],
   "source": [
    "feature_names = x_data.columns.values\n",
    "forest = RandomForestRegressor(max_depth=40, random_state=42, n_estimators=200)\n",
    "\n",
    "forest.fit(x_train, y_train)\n",
    "predictions = forest.predict(x_test)\n",
    "print(\"mse\", mean_squared_error(y_test, predictions))\n",
    "print(\"mae\", mean_absolute_error(y_test, predictions))\n",
    "print(\"RMSE\", mean_squared_error(y_test, predictions, squared=False))\n",
    "print(\"MAPE\", mean_absolute_percentage_error(y_test, predictions))\n",
    "print(\"R2\", r2_score(y_test, predictions))\n",
    "\n",
    "# Get numerical feature importances\n",
    "importances = list(forest.feature_importances_)\n",
    "# List of tuples with variable and importance\n",
    "feature_importances = [(feature, round(importance, 2)) for feature, importance in zip(feature_names, importances)]\n",
    "# Sort the feature importances by most important first\n",
    "feature_importances = sorted(feature_importances, key=lambda x: x[1], reverse=True)\n",
    "# Print out the feature and importances\n",
    "[print('Variable: {:20} Importance: {}'.format(*pair)) for pair in feature_importances];\n",
    "\n"
   ],
   "metadata": {
    "collapsed": false,
    "pycharm": {
     "name": "#%%\n"
    }
   }
  },
  {
   "cell_type": "code",
   "execution_count": 3,
   "outputs": [
    {
     "name": "stdout",
     "output_type": "stream",
     "text": [
      "mse 2.9735382169699863e-12\n",
      "mae 1.3401084153675064e-06\n",
      "RMSE 1.7243950292696818e-06\n",
      "MAPE 611499764.482846\n",
      "R2 0.24738228160977138\n"
     ]
    }
   ],
   "source": [
    "from sklearn.linear_model import LinearRegression\n",
    "\n",
    "linreg = LinearRegression()\n",
    "\n",
    "linreg.fit(x_train, y_train)\n",
    "predictions = linreg.predict(x_test)\n",
    "print(\"mse\",mean_squared_error(y_test,predictions))\n",
    "print(\"mae\",mean_absolute_error(y_test,predictions))\n",
    "print(\"RMSE\", mean_squared_error(y_test, predictions, squared=False))\n",
    "print(\"MAPE\", mean_absolute_percentage_error(y_test, predictions))\n",
    "print(\"R2\", r2_score(y_test, predictions))"
   ],
   "metadata": {
    "collapsed": false,
    "pycharm": {
     "name": "#%%\n"
    }
   }
  },
  {
   "cell_type": "code",
   "execution_count": null,
   "outputs": [],
   "source": [],
   "metadata": {
    "collapsed": false,
    "pycharm": {
     "name": "#%%\n"
    }
   }
  }
 ],
 "metadata": {
  "kernelspec": {
   "display_name": "Python 3",
   "language": "python",
   "name": "python3"
  },
  "language_info": {
   "codemirror_mode": {
    "name": "ipython",
    "version": 2
   },
   "file_extension": ".py",
   "mimetype": "text/x-python",
   "name": "python",
   "nbconvert_exporter": "python",
   "pygments_lexer": "ipython2",
   "version": "2.7.6"
  }
 },
 "nbformat": 4,
 "nbformat_minor": 0
}